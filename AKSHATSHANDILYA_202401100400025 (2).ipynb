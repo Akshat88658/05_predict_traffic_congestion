{
  "nbformat": 4,
  "nbformat_minor": 0,
  "metadata": {
    "colab": {
      "provenance": []
    },
    "kernelspec": {
      "name": "python3",
      "display_name": "Python 3"
    },
    "language_info": {
      "name": "python"
    }
  },
  "cells": [
    {
      "cell_type": "code",
      "execution_count": 1,
      "metadata": {
        "id": "wuvP4pyPpMCJ"
      },
      "outputs": [],
      "source": [
        "# Import libraries\n",
        "import pandas as pd\n",
        "from sklearn.model_selection import train_test_split\n",
        "from sklearn.preprocessing import StandardScaler\n",
        "from sklearn.linear_model import LogisticRegression\n",
        "from sklearn.metrics import confusion_matrix, classification_report, accuracy_score, precision_score, recall_score\n",
        "import seaborn as sns\n",
        "import matplotlib.pyplot as plt"
      ]
    },
    {
      "cell_type": "code",
      "source": [
        "df= pd.read_csv(\"/content/drive/MyDrive/traffic_congestion.csv\")"
      ],
      "metadata": {
        "id": "NjF7Yn57rbZ_"
      },
      "execution_count": 3,
      "outputs": []
    },
    {
      "cell_type": "code",
      "source": [
        "print(df.head())"
      ],
      "metadata": {
        "colab": {
          "base_uri": "https://localhost:8080/"
        },
        "id": "BuDshh83r56l",
        "outputId": "a4ec0597-760b-4521-cd39-ec26032f5c07"
      },
      "execution_count": 4,
      "outputs": [
        {
          "output_type": "stream",
          "name": "stdout",
          "text": [
            "   sensor_count  avg_speed time_of_day congestion_level\n",
            "0             4  21.723781     morning           medium\n",
            "1            17  17.319749     morning              low\n",
            "2             3  54.550117       night             high\n",
            "3            13  59.453301       night             high\n",
            "4             9  12.211030     evening           medium\n"
          ]
        }
      ]
    },
    {
      "cell_type": "code",
      "source": [
        "print(df.shape)"
      ],
      "metadata": {
        "colab": {
          "base_uri": "https://localhost:8080/"
        },
        "id": "uazJW-ulr-nd",
        "outputId": "94fba5c4-6b05-414d-99b9-e1138f796fd2"
      },
      "execution_count": 5,
      "outputs": [
        {
          "output_type": "stream",
          "name": "stdout",
          "text": [
            "(100, 4)\n"
          ]
        }
      ]
    },
    {
      "cell_type": "code",
      "source": [
        "print(df.describe);"
      ],
      "metadata": {
        "colab": {
          "base_uri": "https://localhost:8080/"
        },
        "id": "DbqZ0ck-sAND",
        "outputId": "9411013a-61e3-46c3-9b6a-63e414f1c2c2"
      },
      "execution_count": 6,
      "outputs": [
        {
          "output_type": "stream",
          "name": "stdout",
          "text": [
            "<bound method NDFrame.describe of     sensor_count  avg_speed time_of_day congestion_level\n",
            "0              4  21.723781     morning           medium\n",
            "1             17  17.319749     morning              low\n",
            "2              3  54.550117       night             high\n",
            "3             13  59.453301       night             high\n",
            "4              9  12.211030     evening           medium\n",
            "..           ...        ...         ...              ...\n",
            "95            14  15.144772   afternoon              low\n",
            "96            18  21.883053     morning           medium\n",
            "97            15  46.384176     evening              low\n",
            "98             2  33.590222   afternoon             high\n",
            "99            10  68.021836     evening             high\n",
            "\n",
            "[100 rows x 4 columns]>\n"
          ]
        }
      ]
    },
    {
      "cell_type": "code",
      "source": [
        "print(df.dtypes)"
      ],
      "metadata": {
        "colab": {
          "base_uri": "https://localhost:8080/"
        },
        "id": "wMOt7LVAsEA8",
        "outputId": "f1e366c2-fffb-47c3-fa0a-b793aee516d0"
      },
      "execution_count": 7,
      "outputs": [
        {
          "output_type": "stream",
          "name": "stdout",
          "text": [
            "sensor_count          int64\n",
            "avg_speed           float64\n",
            "time_of_day          object\n",
            "congestion_level     object\n",
            "dtype: object\n"
          ]
        }
      ]
    },
    {
      "cell_type": "code",
      "source": [
        "# 1. Simulate dataset\n",
        "np.random.seed(42)\n",
        "n_samples = 500\n",
        "\n",
        "data = {\n",
        "    'vehicle_count': np.random.poisson(lam=50, size=n_samples),\n",
        "    'average_speed': np.random.normal(loc=40, scale=10, size=n_samples),\n",
        "    'time_of_day': np.random.choice([0, 1, 2], size=n_samples),  # 0 = Morning, 1 = Afternoon, 2 = Night\n",
        "    'day_of_week': np.random.choice(range(7), size=n_samples),   # 0 = Monday ... 6 = Sunday\n",
        "    'weather_conditions': np.random.choice([0, 1], size=n_samples),  # 0 = Clear, 1 = Rainy\n",
        "}\n",
        "\n",
        "# Define congestion level based on conditions (rough logic)\n",
        "conditions = (\n",
        "    (data['vehicle_count'] > 60) & (data['average_speed'] < 30)\n",
        ")\n",
        "labels = np.where(conditions, 'High', 'Medium')\n",
        "labels = np.where((data['vehicle_count'] < 40) & (data['average_speed'] > 50), 'Low', labels)\n",
        "\n",
        "df = pd.DataFrame(data)\n",
        "df['congestion'] = labels\n",
        "\n",
        "# 2. Preprocess data\n",
        "X = df.drop('congestion', axis=1)\n",
        "y = df['congestion']\n",
        "\n",
        "scaler = StandardScaler()\n",
        "X_scaled = scaler.fit_transform(X)\n",
        "\n",
        "X_train, X_test, y_train, y_test = train_test_split(X_scaled, y, test_size=0.25, stratify=y, random_state=42)\n",
        "\n",
        "# 3. Train model\n",
        "clf = RandomForestClassifier(random_state=42)\n",
        "clf.fit(X_train, y_train)\n",
        "y_pred = clf.predict(X_test)\n",
        "\n",
        "# 4. Evaluation\n",
        "print(\"\\nClassification Report:\")\n",
        "print(classification_report(y_test, y_pred))\n",
        "\n",
        "# 5. Confusion Matrix\n",
        "cm = confusion_matrix(y_test, y_pred, labels=['Low', 'Medium', 'High'])\n",
        "disp = ConfusionMatrixDisplay(confusion_matrix=cm, display_labels=['Low', 'Medium', 'High'])\n",
        "\n",
        "plt.figure(figsize=(6, 5))\n",
        "disp.plot(cmap='Blues')\n",
        "plt.title(\"Confusion Matrix Heatmap\")\n",
        "plt.show()\n"
      ],
      "metadata": {
        "colab": {
          "base_uri": "https://localhost:8080/",
          "height": 822
        },
        "id": "HrjYeNFEq4Hn",
        "outputId": "734c1dff-97a3-4736-dae1-ae070b75b26b"
      },
      "execution_count": 8,
      "outputs": [
        {
          "output_type": "stream",
          "name": "stdout",
          "text": [
            "\n",
            "Classification Report:\n",
            "              precision    recall  f1-score   support\n",
            "\n",
            "        High       0.00      0.00      0.00         1\n",
            "         Low       0.00      0.00      0.00         1\n",
            "      Medium       0.98      1.00      0.99       123\n",
            "\n",
            "    accuracy                           0.98       125\n",
            "   macro avg       0.33      0.33      0.33       125\n",
            "weighted avg       0.97      0.98      0.98       125\n",
            "\n"
          ]
        },
        {
          "output_type": "stream",
          "name": "stderr",
          "text": [
            "/usr/local/lib/python3.11/dist-packages/sklearn/metrics/_classification.py:1565: UndefinedMetricWarning: Precision is ill-defined and being set to 0.0 in labels with no predicted samples. Use `zero_division` parameter to control this behavior.\n",
            "  _warn_prf(average, modifier, f\"{metric.capitalize()} is\", len(result))\n",
            "/usr/local/lib/python3.11/dist-packages/sklearn/metrics/_classification.py:1565: UndefinedMetricWarning: Precision is ill-defined and being set to 0.0 in labels with no predicted samples. Use `zero_division` parameter to control this behavior.\n",
            "  _warn_prf(average, modifier, f\"{metric.capitalize()} is\", len(result))\n",
            "/usr/local/lib/python3.11/dist-packages/sklearn/metrics/_classification.py:1565: UndefinedMetricWarning: Precision is ill-defined and being set to 0.0 in labels with no predicted samples. Use `zero_division` parameter to control this behavior.\n",
            "  _warn_prf(average, modifier, f\"{metric.capitalize()} is\", len(result))\n"
          ]
        },
        {
          "output_type": "display_data",
          "data": {
            "text/plain": [
              "<Figure size 600x500 with 0 Axes>"
            ]
          },
          "metadata": {}
        },
        {
          "output_type": "display_data",
          "data": {
            "text/plain": [
              "<Figure size 640x480 with 2 Axes>"
            ],
            "image/png": "[encoded data removed]"
          },
          "metadata": {}
        }
      ]
    }
  ]
}